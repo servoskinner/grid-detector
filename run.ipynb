{
 "cells": [
  {
   "cell_type": "code",
   "execution_count": 1,
   "metadata": {},
   "outputs": [],
   "source": [
    "from generate import generate_grid\n",
    "from grid_detector import detect_grid\n",
    "from plotters import dump_points, plot_grid\n",
    "from tqdm import tqdm"
   ]
  },
  {
   "cell_type": "code",
   "execution_count": null,
   "metadata": {},
   "outputs": [],
   "source": [
    "# Generate one grid, analyze it and save points with and without detected elements\n",
    "\n",
    "points, dims = generate_grid()\n",
    "dump_points(points, \"in\")\n",
    "\n",
    "grid = detect_grid(points)\n",
    "print(\"EXPECTED:\", dims, \"PREDICTED:\", grid.dims)\n",
    "\n",
    "if grid == None:\n",
    "    dump_points(points, \"out\")\n",
    "else:\n",
    "    plot_grid(grid)"
   ]
  },
  {
   "cell_type": "code",
   "execution_count": 2,
   "metadata": {},
   "outputs": [
    {
     "name": "stderr",
     "output_type": "stream",
     "text": [
      "100%|██████████| 10000/10000 [00:43<00:00, 232.24it/s]"
     ]
    },
    {
     "name": "stdout",
     "output_type": "stream",
     "text": [
      "%correct: 0.9569\n"
     ]
    },
    {
     "name": "stderr",
     "output_type": "stream",
     "text": [
      "\n"
     ]
    }
   ],
   "source": [
    "# Run tests\n",
    "\n",
    "N_TESTS = 10000\n",
    "correct = 0\n",
    "for i in tqdm(range(N_TESTS)):\n",
    "    points, dims = generate_grid()\n",
    "    grid = detect_grid(points, bin_width=0.5)\n",
    "\n",
    "    if grid != None and (dims == grid.dims).all():\n",
    "        correct += 1\n",
    "\n",
    "print(\"%correct:\", correct/N_TESTS)"
   ]
  },
  {
   "cell_type": "code",
   "execution_count": null,
   "metadata": {},
   "outputs": [],
   "source": [
    "# Generate and save test samples without making predictions\n",
    "N_SAMPLES = 12\n",
    "\n",
    "for i in range(N_SAMPLES):\n",
    "    dump_points(generate_grid()[0])"
   ]
  }
 ],
 "metadata": {
  "kernelspec": {
   "display_name": "Python 3",
   "language": "python",
   "name": "python3"
  },
  "language_info": {
   "codemirror_mode": {
    "name": "ipython",
    "version": 3
   },
   "file_extension": ".py",
   "mimetype": "text/x-python",
   "name": "python",
   "nbconvert_exporter": "python",
   "pygments_lexer": "ipython3",
   "version": "3.12.3"
  }
 },
 "nbformat": 4,
 "nbformat_minor": 2
}
